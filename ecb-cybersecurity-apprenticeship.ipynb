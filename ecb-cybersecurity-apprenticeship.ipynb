{
 "cells": [
  {
   "cell_type": "markdown",
   "id": "d4ee9e4b",
   "metadata": {},
   "source": [
    "***\n",
    "< [Home](https://github.com/SeanOhAileasa) | [README](https://github.com/SeanOhAileasa/ecb-cybersecurity-apprenticeship/blob/main/README.md) >\n",
    "\n",
    "## Cybersecurity Apprenticeship (LMETB - AMTCE - Oiliuna)\n",
    "###### Topic: ``Effective Communication in Business``\n",
    "***"
   ]
  },
  {
   "cell_type": "markdown",
   "id": "b82b07fb",
   "metadata": {},
   "source": [
    "Course material for the ``CompTIA IT Fundamentals`` module of the ``ICT Associate Apprenticeship (Cybersecurity)`` programme."
   ]
  },
  {
   "cell_type": "markdown",
   "id": "e7228f57",
   "metadata": {},
   "source": [
    "<a id=\"top\"></a>\n",
    "***\n",
    "## Table of Contents\n",
    "***"
   ]
  },
  {
   "cell_type": "markdown",
   "id": "881b7848",
   "metadata": {},
   "source": [
    "### Semester 1 Schedule 30th May 2022 [ [Schedule Update](#newSchedule) ]<br/><br/>"
   ]
  },
  {
   "cell_type": "code",
   "execution_count": 1,
   "id": "eeb4cfaa",
   "metadata": {},
   "outputs": [
    {
     "data": {
      "text/html": [
       "\n",
       "        <iframe\n",
       "            width=\"1000\"\n",
       "            height=\"700\"\n",
       "            src=\"./rc/Semester-1-Schedule-30th-May-2022.pdf\"\n",
       "            frameborder=\"0\"\n",
       "            allowfullscreen\n",
       "            \n",
       "        ></iframe>\n",
       "        "
      ],
      "text/plain": [
       "<IPython.lib.display.IFrame at 0x25010c6f760>"
      ]
     },
     "execution_count": 1,
     "metadata": {},
     "output_type": "execute_result"
    }
   ],
   "source": [
    "from IPython.display import IFrame, display\n",
    "IFrame(\"./rc/Semester-1-Schedule-30th-May-2022.pdf\",width=1000,height=700)"
   ]
  },
  {
   "cell_type": "markdown",
   "id": "58744118",
   "metadata": {},
   "source": [
    "<a id=\"newSchedule\"></a>\n",
    "### Semester 2 Schedule 27th June 2022<br/><br/>"
   ]
  },
  {
   "cell_type": "markdown",
   "id": "5247fd0d",
   "metadata": {},
   "source": [
    "Changes to original schedule:\n",
    "\n",
    "> Semester 2 period (two weeks) re. \"**Effective Communication in Business**\" will commence on **27th June** (ending 8th July). \n",
    "\n",
    "> The **Annual Leave** period (one week) will commence on 11th July (ending 15th July).\n",
    "\n",
    "> Semester 3 period re. \"**CompTIA Network+**\" will commence on **18th July**."
   ]
  },
  {
   "cell_type": "markdown",
   "id": "dad866bb",
   "metadata": {},
   "source": [
    "<hr width=50%;>"
   ]
  },
  {
   "cell_type": "markdown",
   "id": "096bb973",
   "metadata": {},
   "source": [
    "### [Monday 27th June 2022](#20220627) <br/><br/>\n",
    "\n",
    "- [Unit aims and outcomes](#202206271) <br/><br/>\n",
    "- [Introduction to Communication](#202206272) <br/><br/>\n",
    "- [Communication cycle](#202206273) <br/><br/>\n",
    "- [Communication types](#202206274) <br/><br/>\n",
    "- [Benefits of different types of communication](#202206275) <br/><br/>\n",
    "- [Marketing Communication](#202206276) <br/><br/>\n",
    "- [Electronic Communication](#202206277) <br/><br/>\n",
    "- [Effective communication and motivation in business](#202206278) <br/><br/>\n",
    "- [Finding Information](#202206279) <br/><br/>\n",
    "- [Effective Writing](#2022062710) <br/><br/>\n",
    "- [Business Correspondence](#2022062711) <br/><br/>\n",
    "- [Effective written communication for different business audiences](#2022062712) \n",
    "\n",
    "<hr width=50%;>"
   ]
  },
  {
   "cell_type": "markdown",
   "id": "bf2b95e2",
   "metadata": {},
   "source": [
    "***\n",
    "## END"
   ]
  },
  {
   "cell_type": "markdown",
   "id": "444d4a55",
   "metadata": {},
   "source": [
    "< [Table of Contents](#top) | [References](#references) >\n",
    "<a id=\"20220627\"></a>\n",
    "***\n",
    "### Monday 27th June 2022\n",
    "***"
   ]
  },
  {
   "cell_type": "markdown",
   "id": "901d06fc",
   "metadata": {},
   "source": [
    "< [Table of Contents](#top) | [References](#references) >\n",
    "<a id=\"202206271\"></a>\n",
    "***\n",
    "###### Unit aims and outcomes\n",
    "***"
   ]
  },
  {
   "cell_type": "code",
   "execution_count": 2,
   "id": "0d843258",
   "metadata": {},
   "outputs": [
    {
     "data": {
      "text/html": [
       "\n",
       "        <iframe\n",
       "            width=\"1000\"\n",
       "            height=\"700\"\n",
       "            src=\"./rc/7630_L4_Handout1_401.pdf\"\n",
       "            frameborder=\"0\"\n",
       "            allowfullscreen\n",
       "            \n",
       "        ></iframe>\n",
       "        "
      ],
      "text/plain": [
       "<IPython.lib.display.IFrame at 0x25010c83e50>"
      ]
     },
     "execution_count": 2,
     "metadata": {},
     "output_type": "execute_result"
    }
   ],
   "source": [
    "from IPython.display import IFrame, display\n",
    "IFrame(\"./rc/7630_L4_Handout1_401.pdf\",width=1000,height=700)"
   ]
  },
  {
   "cell_type": "markdown",
   "id": "14b53246",
   "metadata": {},
   "source": [
    "< [Table of Contents](#top) | [References](#references) >\n",
    "<a id=\"202206272\"></a>\n",
    "***\n",
    "###### Introduction to Communication\n",
    "***"
   ]
  },
  {
   "cell_type": "code",
   "execution_count": 3,
   "id": "3e92160e",
   "metadata": {},
   "outputs": [
    {
     "data": {
      "text/html": [
       "\n",
       "        <iframe\n",
       "            width=\"1000\"\n",
       "            height=\"700\"\n",
       "            src=\"./rc/Chapter01IntroductiontoCommunication-1.pdf\"\n",
       "            frameborder=\"0\"\n",
       "            allowfullscreen\n",
       "            \n",
       "        ></iframe>\n",
       "        "
      ],
      "text/plain": [
       "<IPython.lib.display.IFrame at 0x25010c83700>"
      ]
     },
     "execution_count": 3,
     "metadata": {},
     "output_type": "execute_result"
    }
   ],
   "source": [
    "from IPython.display import IFrame, display\n",
    "IFrame(\"./rc/Chapter01IntroductiontoCommunication-1.pdf\",width=1000,height=700)"
   ]
  },
  {
   "cell_type": "markdown",
   "id": "84079dba",
   "metadata": {},
   "source": [
    "< [Table of Contents](#top) | [References](#references) >\n",
    "<a id=\"202206273\"></a>\n",
    "***\n",
    "###### Communication cycle\n",
    "***"
   ]
  },
  {
   "cell_type": "code",
   "execution_count": 4,
   "id": "19fef81c",
   "metadata": {},
   "outputs": [
    {
     "data": {
      "text/html": [
       "\n",
       "        <iframe\n",
       "            width=\"1000\"\n",
       "            height=\"700\"\n",
       "            src=\"./rc/7630_L4_Handout2_401.pdf\"\n",
       "            frameborder=\"0\"\n",
       "            allowfullscreen\n",
       "            \n",
       "        ></iframe>\n",
       "        "
      ],
      "text/plain": [
       "<IPython.lib.display.IFrame at 0x25010c69130>"
      ]
     },
     "execution_count": 4,
     "metadata": {},
     "output_type": "execute_result"
    }
   ],
   "source": [
    "from IPython.display import IFrame, display\n",
    "IFrame(\"./rc/7630_L4_Handout2_401.pdf\",width=1000,height=700)"
   ]
  },
  {
   "cell_type": "markdown",
   "id": "d70d07f3",
   "metadata": {},
   "source": [
    "< [Table of Contents](#top) | [References](#references) >\n",
    "<a id=\"202206274\"></a>\n",
    "***\n",
    "###### Communication types\n",
    "***"
   ]
  },
  {
   "cell_type": "code",
   "execution_count": 5,
   "id": "661b83c0",
   "metadata": {},
   "outputs": [
    {
     "data": {
      "text/html": [
       "\n",
       "        <iframe\n",
       "            width=\"1000\"\n",
       "            height=\"700\"\n",
       "            src=\"./rc/7630_L4_Handout3_401.pdf\"\n",
       "            frameborder=\"0\"\n",
       "            allowfullscreen\n",
       "            \n",
       "        ></iframe>\n",
       "        "
      ],
      "text/plain": [
       "<IPython.lib.display.IFrame at 0x25010c691f0>"
      ]
     },
     "execution_count": 5,
     "metadata": {},
     "output_type": "execute_result"
    }
   ],
   "source": [
    "from IPython.display import IFrame, display\n",
    "IFrame(\"./rc/7630_L4_Handout3_401.pdf\",width=1000,height=700)"
   ]
  },
  {
   "cell_type": "markdown",
   "id": "f25dbaf1",
   "metadata": {},
   "source": [
    "< [Table of Contents](#top) | [References](#references) >\n",
    "<a id=\"202206275\"></a>\n",
    "***\n",
    "###### Benefits of different types of communication\n",
    "***"
   ]
  },
  {
   "cell_type": "code",
   "execution_count": 6,
   "id": "616cf5ee",
   "metadata": {},
   "outputs": [
    {
     "data": {
      "text/html": [
       "\n",
       "        <iframe\n",
       "            width=\"1000\"\n",
       "            height=\"700\"\n",
       "            src=\"./rc/7630_L4_Handout4_401.pdf\"\n",
       "            frameborder=\"0\"\n",
       "            allowfullscreen\n",
       "            \n",
       "        ></iframe>\n",
       "        "
      ],
      "text/plain": [
       "<IPython.lib.display.IFrame at 0x25010c83c70>"
      ]
     },
     "execution_count": 6,
     "metadata": {},
     "output_type": "execute_result"
    }
   ],
   "source": [
    "from IPython.display import IFrame, display\n",
    "IFrame(\"./rc/7630_L4_Handout4_401.pdf\",width=1000,height=700)"
   ]
  },
  {
   "cell_type": "markdown",
   "id": "566a656c",
   "metadata": {},
   "source": [
    "< [Table of Contents](#top) | [References](#references) >\n",
    "<a id=\"202206276\"></a>\n",
    "***\n",
    "###### Marketing Communication\n",
    "***"
   ]
  },
  {
   "cell_type": "code",
   "execution_count": 7,
   "id": "e3b0a1cf",
   "metadata": {},
   "outputs": [
    {
     "data": {
      "text/html": [
       "\n",
       "        <iframe\n",
       "            width=\"1000\"\n",
       "            height=\"700\"\n",
       "            src=\"./rc/Chapter03MarketingCommunication.pdf\"\n",
       "            frameborder=\"0\"\n",
       "            allowfullscreen\n",
       "            \n",
       "        ></iframe>\n",
       "        "
      ],
      "text/plain": [
       "<IPython.lib.display.IFrame at 0x25010c839d0>"
      ]
     },
     "execution_count": 7,
     "metadata": {},
     "output_type": "execute_result"
    }
   ],
   "source": [
    "from IPython.display import IFrame, display\n",
    "IFrame(\"./rc/Chapter03MarketingCommunication.pdf\",width=1000,height=700)"
   ]
  },
  {
   "cell_type": "markdown",
   "id": "fbcaba5e",
   "metadata": {},
   "source": [
    "< [Table of Contents](#top) | [References](#references) >\n",
    "<a id=\"202206277\"></a>\n",
    "***\n",
    "###### Electronic Communication\n",
    "***"
   ]
  },
  {
   "cell_type": "code",
   "execution_count": 8,
   "id": "a6bce888",
   "metadata": {},
   "outputs": [
    {
     "data": {
      "text/html": [
       "\n",
       "        <iframe\n",
       "            width=\"1000\"\n",
       "            height=\"700\"\n",
       "            src=\"./rc/Chapter04ElectronicCommunication.pdf\"\n",
       "            frameborder=\"0\"\n",
       "            allowfullscreen\n",
       "            \n",
       "        ></iframe>\n",
       "        "
      ],
      "text/plain": [
       "<IPython.lib.display.IFrame at 0x25010c5cd90>"
      ]
     },
     "execution_count": 8,
     "metadata": {},
     "output_type": "execute_result"
    }
   ],
   "source": [
    "from IPython.display import IFrame, display\n",
    "IFrame(\"./rc/Chapter04ElectronicCommunication.pdf\",width=1000,height=700)"
   ]
  },
  {
   "cell_type": "markdown",
   "id": "64bc0235",
   "metadata": {},
   "source": [
    "< [Table of Contents](#top) | [References](#references) >\n",
    "<a id=\"202206278\"></a>\n",
    "***\n",
    "###### Effective communication and motivation in business\n",
    "***"
   ]
  },
  {
   "cell_type": "code",
   "execution_count": 9,
   "id": "ac39d790",
   "metadata": {},
   "outputs": [
    {
     "data": {
      "text/html": [
       "\n",
       "        <iframe\n",
       "            width=\"1000\"\n",
       "            height=\"700\"\n",
       "            src=\"./rc/7630_L4_Handout5_401.pdf\"\n",
       "            frameborder=\"0\"\n",
       "            allowfullscreen\n",
       "            \n",
       "        ></iframe>\n",
       "        "
      ],
      "text/plain": [
       "<IPython.lib.display.IFrame at 0x25010c6f250>"
      ]
     },
     "execution_count": 9,
     "metadata": {},
     "output_type": "execute_result"
    }
   ],
   "source": [
    "from IPython.display import IFrame, display\n",
    "IFrame(\"./rc/7630_L4_Handout5_401.pdf\",width=1000,height=700)"
   ]
  },
  {
   "cell_type": "markdown",
   "id": "16c669d9",
   "metadata": {},
   "source": [
    "< [Table of Contents](#top) | [References](#references) >\n",
    "<a id=\"202206279\"></a>\n",
    "***\n",
    "###### Finding Information\n",
    "***"
   ]
  },
  {
   "cell_type": "code",
   "execution_count": 10,
   "id": "c2f606eb",
   "metadata": {},
   "outputs": [
    {
     "data": {
      "text/html": [
       "\n",
       "        <iframe\n",
       "            width=\"1000\"\n",
       "            height=\"700\"\n",
       "            src=\"./rc/Chapter05FindingInformation.pdf\"\n",
       "            frameborder=\"0\"\n",
       "            allowfullscreen\n",
       "            \n",
       "        ></iframe>\n",
       "        "
      ],
      "text/plain": [
       "<IPython.lib.display.IFrame at 0x25011c91790>"
      ]
     },
     "execution_count": 10,
     "metadata": {},
     "output_type": "execute_result"
    }
   ],
   "source": [
    "from IPython.display import IFrame, display\n",
    "IFrame(\"./rc/Chapter05FindingInformation.pdf\",width=1000,height=700)"
   ]
  },
  {
   "cell_type": "markdown",
   "id": "2c545e06",
   "metadata": {},
   "source": [
    "< [Table of Contents](#top) | [References](#references) >\n",
    "<a id=\"2022062710\"></a>\n",
    "***\n",
    "###### Effective Writing\n",
    "***"
   ]
  },
  {
   "cell_type": "code",
   "execution_count": 11,
   "id": "a42c929a",
   "metadata": {},
   "outputs": [
    {
     "data": {
      "text/html": [
       "\n",
       "        <iframe\n",
       "            width=\"1000\"\n",
       "            height=\"700\"\n",
       "            src=\"./rc/Chapter06EffectiveWriting.pdf\"\n",
       "            frameborder=\"0\"\n",
       "            allowfullscreen\n",
       "            \n",
       "        ></iframe>\n",
       "        "
      ],
      "text/plain": [
       "<IPython.lib.display.IFrame at 0x25011c917f0>"
      ]
     },
     "execution_count": 11,
     "metadata": {},
     "output_type": "execute_result"
    }
   ],
   "source": [
    "from IPython.display import IFrame, display\n",
    "IFrame(\"./rc/Chapter06EffectiveWriting.pdf\",width=1000,height=700)"
   ]
  },
  {
   "cell_type": "markdown",
   "id": "bf7fc760",
   "metadata": {},
   "source": [
    "< [Table of Contents](#top) | [References](#references) >\n",
    "<a id=\"2022062711\"></a>\n",
    "***\n",
    "###### Business Correspondence\n",
    "***"
   ]
  },
  {
   "cell_type": "code",
   "execution_count": 12,
   "id": "e8781ec3",
   "metadata": {},
   "outputs": [
    {
     "data": {
      "text/html": [
       "\n",
       "        <iframe\n",
       "            width=\"1000\"\n",
       "            height=\"700\"\n",
       "            src=\"./rc/Chapter08BusinessCorrespondence.pdf\"\n",
       "            frameborder=\"0\"\n",
       "            allowfullscreen\n",
       "            \n",
       "        ></iframe>\n",
       "        "
      ],
      "text/plain": [
       "<IPython.lib.display.IFrame at 0x25011c91e20>"
      ]
     },
     "execution_count": 12,
     "metadata": {},
     "output_type": "execute_result"
    }
   ],
   "source": [
    "from IPython.display import IFrame, display\n",
    "IFrame(\"./rc/Chapter08BusinessCorrespondence.pdf\",width=1000,height=700)"
   ]
  },
  {
   "cell_type": "markdown",
   "id": "4132c9d4",
   "metadata": {},
   "source": [
    "< [Table of Contents](#top) | [References](#references) >\n",
    "<a id=\"2022062712\"></a>\n",
    "***\n",
    "###### Effective written communication for different business audiences\n",
    "***"
   ]
  },
  {
   "cell_type": "code",
   "execution_count": 13,
   "id": "850bed86",
   "metadata": {},
   "outputs": [
    {
     "data": {
      "text/html": [
       "\n",
       "        <iframe\n",
       "            width=\"1000\"\n",
       "            height=\"700\"\n",
       "            src=\"./rc/7630_L4_Handout7_401.pdf\"\n",
       "            frameborder=\"0\"\n",
       "            allowfullscreen\n",
       "            \n",
       "        ></iframe>\n",
       "        "
      ],
      "text/plain": [
       "<IPython.lib.display.IFrame at 0x25011c910d0>"
      ]
     },
     "execution_count": 13,
     "metadata": {},
     "output_type": "execute_result"
    }
   ],
   "source": [
    "from IPython.display import IFrame, display\n",
    "IFrame(\"./rc/7630_L4_Handout7_401.pdf\",width=1000,height=700)"
   ]
  },
  {
   "cell_type": "markdown",
   "id": "470bcbf7",
   "metadata": {},
   "source": [
    "***\n",
    "## END"
   ]
  },
  {
   "cell_type": "markdown",
   "id": "e0e42d51",
   "metadata": {},
   "source": [
    "< [Table of Contents](#top) >\n",
    "<a id=\"references\"></a>\n",
    "***\n",
    "## References\n",
    "***"
   ]
  },
  {
   "cell_type": "markdown",
   "id": "ff68247c",
   "metadata": {},
   "source": [
    "Oiliuna, \"Cybersecurity Apprenticeship - ICT Associate Professional (ICTAP),\" LMETB / AMTCE, June 2022."
   ]
  },
  {
   "cell_type": "markdown",
   "id": "b33c372a",
   "metadata": {},
   "source": [
    "***\n",
    "## END"
   ]
  },
  {
   "cell_type": "markdown",
   "id": "e5961b4d",
   "metadata": {},
   "source": [
    "< [Table of Contents](#top) | [References](#references) >\n",
    "<a id=\"appendix\"></a>\n",
    "***\n",
    "## Appendix\n",
    "***"
   ]
  },
  {
   "cell_type": "markdown",
   "id": "00d82a82",
   "metadata": {},
   "source": [
    "***\n",
    "## END"
   ]
  },
  {
   "cell_type": "code",
   "execution_count": 14,
   "id": "706756a2",
   "metadata": {},
   "outputs": [
    {
     "name": "stderr",
     "output_type": "stream",
     "text": [
      "C:\\Users\\SeanOhAileasa\\AppData\\Local\\Temp\\ipykernel_9364\\1322614208.py:1: DeprecationWarning: Importing display from IPython.core.display is deprecated since IPython 7.14, please import from IPython display\n",
      "  from IPython.core.display import display,HTML\n"
     ]
    },
    {
     "data": {
      "text/html": [
       "<style>.container { width:100% !important; }</style>"
      ],
      "text/plain": [
       "<IPython.core.display.HTML object>"
      ]
     },
     "metadata": {},
     "output_type": "display_data"
    }
   ],
   "source": [
    "from IPython.core.display import display,HTML\n",
    "display(HTML(\"<style>.container { width:100% !important; }</style>\"))"
   ]
  },
  {
   "cell_type": "markdown",
   "id": "899c1783",
   "metadata": {},
   "source": [
    "# END JUPYTER NOTEBOOK"
   ]
  }
 ],
 "metadata": {
  "kernelspec": {
   "display_name": "Python 3 (ipykernel)",
   "language": "python",
   "name": "python3"
  },
  "language_info": {
   "codemirror_mode": {
    "name": "ipython",
    "version": 3
   },
   "file_extension": ".py",
   "mimetype": "text/x-python",
   "name": "python",
   "nbconvert_exporter": "python",
   "pygments_lexer": "ipython3",
   "version": "3.9.12"
  }
 },
 "nbformat": 4,
 "nbformat_minor": 5
}
