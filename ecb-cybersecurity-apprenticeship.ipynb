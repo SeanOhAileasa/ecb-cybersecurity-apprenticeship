{
 "cells": [
  {
   "cell_type": "markdown",
   "id": "d4ee9e4b",
   "metadata": {},
   "source": [
    "***\n",
    "< [Home](https://github.com/SeanOhAileasa) | [README](https://github.com/SeanOhAileasa/ecb-cybersecurity-apprenticeship/blob/main/README.md) >\n",
    "\n",
    "## Cybersecurity Apprenticeship (LMETB - AMTCE - Oiliuna)\n",
    "###### Topic: ``Effective Communication in Business``\n",
    "***"
   ]
  },
  {
   "cell_type": "markdown",
   "id": "b82b07fb",
   "metadata": {},
   "source": [
    "Course material for the ``CompTIA IT Fundamentals`` module of the ``ICT Associate Apprenticeship (Cybersecurity)`` programme."
   ]
  },
  {
   "cell_type": "markdown",
   "id": "e7228f57",
   "metadata": {},
   "source": [
    "<a id=\"top\"></a>\n",
    "***\n",
    "## Table of Contents\n",
    "***"
   ]
  },
  {
   "cell_type": "markdown",
   "id": "881b7848",
   "metadata": {},
   "source": [
    "### Semester 1 Schedule 30th May 2022 [ [Schedule Update](#newSchedule) ]<br/><br/>"
   ]
  },
  {
   "cell_type": "code",
   "execution_count": 1,
   "id": "eeb4cfaa",
   "metadata": {},
   "outputs": [
    {
     "data": {
      "text/html": [
       "\n",
       "        <iframe\n",
       "            width=\"1000\"\n",
       "            height=\"700\"\n",
       "            src=\"./rc/Semester-1-Schedule-30th-May-2022.pdf\"\n",
       "            frameborder=\"0\"\n",
       "            allowfullscreen\n",
       "            \n",
       "        ></iframe>\n",
       "        "
      ],
      "text/plain": [
       "<IPython.lib.display.IFrame at 0x246d3b639d0>"
      ]
     },
     "execution_count": 1,
     "metadata": {},
     "output_type": "execute_result"
    }
   ],
   "source": [
    "from IPython.display import IFrame, display\n",
    "IFrame(\"./rc/Semester-1-Schedule-30th-May-2022.pdf\",width=1000,height=700)"
   ]
  },
  {
   "cell_type": "markdown",
   "id": "58744118",
   "metadata": {},
   "source": [
    "<a id=\"newSchedule\"></a>\n",
    "### Semester 2 Schedule 27th June 2022<br/><br/>"
   ]
  },
  {
   "cell_type": "markdown",
   "id": "5247fd0d",
   "metadata": {},
   "source": [
    "Changes to original schedule:\n",
    "\n",
    "> Semester 2 period (two weeks) re. \"**Effective Communication in Business**\" will commence on **27th June** (ending 8th July). \n",
    "\n",
    "> The **Annual Leave** period (one week) will commence on 11th July (ending 15th July).\n",
    "\n",
    "> Semester 3 period re. \"**CompTIA Network+**\" will commence on **18th July**."
   ]
  },
  {
   "cell_type": "markdown",
   "id": "dad866bb",
   "metadata": {},
   "source": [
    "<hr width=50%;>"
   ]
  },
  {
   "cell_type": "markdown",
   "id": "096bb973",
   "metadata": {},
   "source": [
    "### [Monday 27th June 2022](#20220627) <br/><br/>\n",
    "\n",
    "- [Unit aims and outcomes](#202206271) <br/><br/>\n",
    "- [Introduction to Communication](#202206272) <br/><br/>\n",
    "- [Communication cycle](#202206273) <br/><br/>\n",
    "- [Communication types](#202206274) <br/><br/>\n",
    "- [Benefits of different types of communication](#202206275) <br/><br/>\n",
    "- [Marketing Communication](#202206276) <br/><br/>\n",
    "- [Electronic Communication](#202206277) <br/><br/>\n",
    "- [Effective communication and motivation in business](#202206278) <br/><br/>\n",
    "- [Evaluate effectiveness of different communication types within business](#2022062788) <br/><br/>\n",
    "- [Finding Information](#202206279) <br/><br/>\n",
    "- [Effective Writing](#2022062710) <br/><br/>\n",
    "- [Business Correspondence](#2022062711) <br/><br/>\n",
    "- [Effective written communication for different business audiences](#2022062712) \n",
    "\n",
    "<hr width=50%;>"
   ]
  },
  {
   "cell_type": "markdown",
   "id": "4c00a70b",
   "metadata": {},
   "source": [
    "### [Tuesday 28th June 2022](#20220628) <br/><br/>\n",
    "\n",
    "- [Styles and tones of written communication](#202206281) <br/><br/>\n",
    "- [Evaluating verbal communication](#202206282) <br/><br/>\n",
    "- [Business benefits of active listening](#202206283) <br/><br/>\n",
    "- [Overcoming barriers to verbal communication](#202206284) <br/><br/>\n",
    "- [Recognition of and response to non-verbal communication in business environments](#202206285) <br/><br/>\n",
    "- [Using effective non-verbal communication to build rapport within a business environment](#202206286)\n",
    "\n",
    "<hr width=50%;>"
   ]
  },
  {
   "cell_type": "markdown",
   "id": "b852022e",
   "metadata": {},
   "source": [
    "### [Wednesday 29th June 2022](#20220629) <br/><br/>\n",
    "\n",
    "- [Evaluation of feedback methods for successful communications](#202206291) <br/><br/>\n",
    "- [Using feedback to develop communication skills](#202206292) \n",
    "<hr width=50%;>"
   ]
  },
  {
   "cell_type": "markdown",
   "id": "f0dbc8fa",
   "metadata": {},
   "source": [
    "### [Thursday 30th June 2022](#20220630) <br/><br/>\n",
    "\n",
    "- Revision (Dundalk - 7 July 2022 Exam) <br/><br/>\n",
    "- [Justifying the purpose and type of communication](#202206301) <br/><br/>\n",
    "- [Recommending communication strategies in business](#202206302)  \n",
    "<hr width=50%;>"
   ]
  },
  {
   "cell_type": "markdown",
   "id": "766e9201",
   "metadata": {},
   "source": [
    "### [Friday 1st July 2022](#20220701) <br/><br/>\n",
    "\n",
    "- [IP Addresses Explained](#202207011) <br/><br/>\n",
    "- [TCP/IP Model (OBJ. 1.1)](#202207012) <br/><br/>\n",
    "- [IP Addressing and Subnetting](#202207013) \n",
    "<hr width=50%;>"
   ]
  },
  {
   "cell_type": "markdown",
   "id": "2200f5fe",
   "metadata": {},
   "source": [
    "### [Monday 4th July 2022](#20220704) <br/><br/>\n",
    "\n",
    "- [Unit aims and outcomes](#202207041) <br/><br/>\n",
    "- [Communication cycle](#202207042) <br/><br/>\n",
    "- [Professional Communication Skills](#202207043) <br/><br/>\n",
    "- [The capabilities of our cable-laying vessels](#202207044) <br/><br/>\n",
    "- [How a Few Undersea Cables Connect the Entire Internet](#202207045) <br/><br/>\n",
    "- [How Submarine Fiber Cable Installed?](#202207046) <br/><br/>\n",
    "- [How do Satellites work?](#202207047)\n",
    "<hr width=50%;>"
   ]
  },
  {
   "cell_type": "markdown",
   "id": "b0726d59",
   "metadata": {},
   "source": [
    "### [Tuesday 5th July 2022](#20220705) <br/><br/>\n",
    "\n",
    "- [Interview with renowned hacker Kevin Mitnick](#202207051) <br/><br/>\n",
    "- [Ethernet Fundamentals (OBJ. 1.3, 2.3, & 5.5)](#202207052) <br/><br/>\n",
    "- [Why Microsoft Has Underwater Data Centers](#202207053) <br/><br/>\n",
    "- [How do we communicate with space?](#202207054) <br/><br/>\n",
    "- [How The Internet Travels Across Oceans](#202207055)\n",
    "<hr width=50%;>"
   ]
  },
  {
   "cell_type": "markdown",
   "id": "4c6f14be",
   "metadata": {},
   "source": [
    "### [Wednesday 6th July 2022](#20220706) <br/><br/>\n",
    "\n",
    "- [Building a Cable (OBJ. 1.3)](#202207061) <br/><br/>\n",
    "- [Network Infrastructure Devices (Overview) (OBJ. 2.1)](#202207062) <br/><br/>\n",
    "- [darknetdiaries.com - EP 120: Voulnet](#202207063) \n",
    "<hr width=50%;>"
   ]
  },
  {
   "cell_type": "markdown",
   "id": "bf2b95e2",
   "metadata": {},
   "source": [
    "***\n",
    "## END"
   ]
  },
  {
   "cell_type": "markdown",
   "id": "444d4a55",
   "metadata": {},
   "source": [
    "< [Table of Contents](#top) | [References](#references) >\n",
    "<a id=\"20220627\"></a>\n",
    "***\n",
    "### Monday 27th June 2022\n",
    "***"
   ]
  },
  {
   "cell_type": "markdown",
   "id": "901d06fc",
   "metadata": {},
   "source": [
    "< [Table of Contents](#top) | [References](#references) >\n",
    "<a id=\"202206271\"></a>\n",
    "***\n",
    "###### Unit aims and outcomes\n",
    "***"
   ]
  },
  {
   "cell_type": "code",
   "execution_count": 2,
   "id": "0d843258",
   "metadata": {},
   "outputs": [
    {
     "data": {
      "text/html": [
       "\n",
       "        <iframe\n",
       "            width=\"1000\"\n",
       "            height=\"700\"\n",
       "            src=\"./rc/7630_L4_Handout1_401.pdf\"\n",
       "            frameborder=\"0\"\n",
       "            allowfullscreen\n",
       "            \n",
       "        ></iframe>\n",
       "        "
      ],
      "text/plain": [
       "<IPython.lib.display.IFrame at 0x246d3b630d0>"
      ]
     },
     "execution_count": 2,
     "metadata": {},
     "output_type": "execute_result"
    }
   ],
   "source": [
    "from IPython.display import IFrame, display\n",
    "IFrame(\"./rc/7630_L4_Handout1_401.pdf\",width=1000,height=700)"
   ]
  },
  {
   "cell_type": "markdown",
   "id": "14b53246",
   "metadata": {},
   "source": [
    "< [Table of Contents](#top) | [References](#references) >\n",
    "<a id=\"202206272\"></a>\n",
    "***\n",
    "###### Introduction to Communication\n",
    "***"
   ]
  },
  {
   "cell_type": "code",
   "execution_count": 3,
   "id": "3e92160e",
   "metadata": {},
   "outputs": [
    {
     "data": {
      "text/html": [
       "\n",
       "        <iframe\n",
       "            width=\"1000\"\n",
       "            height=\"700\"\n",
       "            src=\"./rc/Chapter01IntroductiontoCommunication-1.pdf\"\n",
       "            frameborder=\"0\"\n",
       "            allowfullscreen\n",
       "            \n",
       "        ></iframe>\n",
       "        "
      ],
      "text/plain": [
       "<IPython.lib.display.IFrame at 0x246d3b81970>"
      ]
     },
     "execution_count": 3,
     "metadata": {},
     "output_type": "execute_result"
    }
   ],
   "source": [
    "from IPython.display import IFrame, display\n",
    "IFrame(\"./rc/Chapter01IntroductiontoCommunication-1.pdf\",width=1000,height=700)"
   ]
  },
  {
   "cell_type": "markdown",
   "id": "84079dba",
   "metadata": {},
   "source": [
    "< [Table of Contents](#top) | [References](#references) >\n",
    "<a id=\"202206273\"></a>\n",
    "***\n",
    "###### Communication cycle\n",
    "***"
   ]
  },
  {
   "cell_type": "code",
   "execution_count": 4,
   "id": "19fef81c",
   "metadata": {},
   "outputs": [
    {
     "data": {
      "text/html": [
       "\n",
       "        <iframe\n",
       "            width=\"1000\"\n",
       "            height=\"700\"\n",
       "            src=\"./rc/7630_L4_Handout2_401.pdf\"\n",
       "            frameborder=\"0\"\n",
       "            allowfullscreen\n",
       "            \n",
       "        ></iframe>\n",
       "        "
      ],
      "text/plain": [
       "<IPython.lib.display.IFrame at 0x246d3b6f790>"
      ]
     },
     "execution_count": 4,
     "metadata": {},
     "output_type": "execute_result"
    }
   ],
   "source": [
    "from IPython.display import IFrame, display\n",
    "IFrame(\"./rc/7630_L4_Handout2_401.pdf\",width=1000,height=700)"
   ]
  },
  {
   "cell_type": "markdown",
   "id": "d70d07f3",
   "metadata": {},
   "source": [
    "< [Table of Contents](#top) | [References](#references) >\n",
    "<a id=\"202206274\"></a>\n",
    "***\n",
    "###### Communication types\n",
    "***"
   ]
  },
  {
   "cell_type": "code",
   "execution_count": 5,
   "id": "661b83c0",
   "metadata": {},
   "outputs": [
    {
     "data": {
      "text/html": [
       "\n",
       "        <iframe\n",
       "            width=\"1000\"\n",
       "            height=\"700\"\n",
       "            src=\"./rc/7630_L4_Handout3_401.pdf\"\n",
       "            frameborder=\"0\"\n",
       "            allowfullscreen\n",
       "            \n",
       "        ></iframe>\n",
       "        "
      ],
      "text/plain": [
       "<IPython.lib.display.IFrame at 0x246d3b81df0>"
      ]
     },
     "execution_count": 5,
     "metadata": {},
     "output_type": "execute_result"
    }
   ],
   "source": [
    "from IPython.display import IFrame, display\n",
    "IFrame(\"./rc/7630_L4_Handout3_401.pdf\",width=1000,height=700)"
   ]
  },
  {
   "cell_type": "markdown",
   "id": "f25dbaf1",
   "metadata": {},
   "source": [
    "< [Table of Contents](#top) | [References](#references) >\n",
    "<a id=\"202206275\"></a>\n",
    "***\n",
    "###### Benefits of different types of communication\n",
    "***"
   ]
  },
  {
   "cell_type": "code",
   "execution_count": 6,
   "id": "616cf5ee",
   "metadata": {},
   "outputs": [
    {
     "data": {
      "text/html": [
       "\n",
       "        <iframe\n",
       "            width=\"1000\"\n",
       "            height=\"700\"\n",
       "            src=\"./rc/7630_L4_Handout4_401.pdf\"\n",
       "            frameborder=\"0\"\n",
       "            allowfullscreen\n",
       "            \n",
       "        ></iframe>\n",
       "        "
      ],
      "text/plain": [
       "<IPython.lib.display.IFrame at 0x246d3b6f1f0>"
      ]
     },
     "execution_count": 6,
     "metadata": {},
     "output_type": "execute_result"
    }
   ],
   "source": [
    "from IPython.display import IFrame, display\n",
    "IFrame(\"./rc/7630_L4_Handout4_401.pdf\",width=1000,height=700)"
   ]
  },
  {
   "cell_type": "markdown",
   "id": "566a656c",
   "metadata": {},
   "source": [
    "< [Table of Contents](#top) | [References](#references) >\n",
    "<a id=\"202206276\"></a>\n",
    "***\n",
    "###### Marketing Communication\n",
    "***"
   ]
  },
  {
   "cell_type": "code",
   "execution_count": 7,
   "id": "e3b0a1cf",
   "metadata": {},
   "outputs": [
    {
     "data": {
      "text/html": [
       "\n",
       "        <iframe\n",
       "            width=\"1000\"\n",
       "            height=\"700\"\n",
       "            src=\"./rc/Chapter03MarketingCommunication.pdf\"\n",
       "            frameborder=\"0\"\n",
       "            allowfullscreen\n",
       "            \n",
       "        ></iframe>\n",
       "        "
      ],
      "text/plain": [
       "<IPython.lib.display.IFrame at 0x246d3bc1af0>"
      ]
     },
     "execution_count": 7,
     "metadata": {},
     "output_type": "execute_result"
    }
   ],
   "source": [
    "from IPython.display import IFrame, display\n",
    "IFrame(\"./rc/Chapter03MarketingCommunication.pdf\",width=1000,height=700)"
   ]
  },
  {
   "cell_type": "markdown",
   "id": "fbcaba5e",
   "metadata": {},
   "source": [
    "< [Table of Contents](#top) | [References](#references) >\n",
    "<a id=\"202206277\"></a>\n",
    "***\n",
    "###### Electronic Communication\n",
    "***"
   ]
  },
  {
   "cell_type": "code",
   "execution_count": 8,
   "id": "a6bce888",
   "metadata": {},
   "outputs": [
    {
     "data": {
      "text/html": [
       "\n",
       "        <iframe\n",
       "            width=\"1000\"\n",
       "            height=\"700\"\n",
       "            src=\"./rc/Chapter04ElectronicCommunication.pdf\"\n",
       "            frameborder=\"0\"\n",
       "            allowfullscreen\n",
       "            \n",
       "        ></iframe>\n",
       "        "
      ],
      "text/plain": [
       "<IPython.lib.display.IFrame at 0x246d3bc1b20>"
      ]
     },
     "execution_count": 8,
     "metadata": {},
     "output_type": "execute_result"
    }
   ],
   "source": [
    "from IPython.display import IFrame, display\n",
    "IFrame(\"./rc/Chapter04ElectronicCommunication.pdf\",width=1000,height=700)"
   ]
  },
  {
   "cell_type": "markdown",
   "id": "64bc0235",
   "metadata": {},
   "source": [
    "< [Table of Contents](#top) | [References](#references) >\n",
    "<a id=\"202206278\"></a>\n",
    "***\n",
    "###### Effective communication and motivation in business\n",
    "***"
   ]
  },
  {
   "cell_type": "code",
   "execution_count": 9,
   "id": "ac39d790",
   "metadata": {
    "scrolled": true
   },
   "outputs": [
    {
     "data": {
      "text/html": [
       "\n",
       "        <iframe\n",
       "            width=\"1000\"\n",
       "            height=\"700\"\n",
       "            src=\"./rc/7630_L4_Handout5_401.pdf\"\n",
       "            frameborder=\"0\"\n",
       "            allowfullscreen\n",
       "            \n",
       "        ></iframe>\n",
       "        "
      ],
      "text/plain": [
       "<IPython.lib.display.IFrame at 0x246d3bc1970>"
      ]
     },
     "execution_count": 9,
     "metadata": {},
     "output_type": "execute_result"
    }
   ],
   "source": [
    "from IPython.display import IFrame, display\n",
    "IFrame(\"./rc/7630_L4_Handout5_401.pdf\",width=1000,height=700)"
   ]
  },
  {
   "cell_type": "markdown",
   "id": "4fa2176d",
   "metadata": {},
   "source": [
    "< [Table of Contents](#top) | [References](#references) >\n",
    "<a id=\"2022062788\"></a>\n",
    "***\n",
    "###### Evaluate effectiveness of different communication types within business\n",
    "***"
   ]
  },
  {
   "cell_type": "code",
   "execution_count": 10,
   "id": "03a03be1",
   "metadata": {},
   "outputs": [
    {
     "data": {
      "text/html": [
       "\n",
       "        <iframe\n",
       "            width=\"1000\"\n",
       "            height=\"700\"\n",
       "            src=\"./rc/7630_L4_Handout6_401.pdf\"\n",
       "            frameborder=\"0\"\n",
       "            allowfullscreen\n",
       "            \n",
       "        ></iframe>\n",
       "        "
      ],
      "text/plain": [
       "<IPython.lib.display.IFrame at 0x246d3bc1640>"
      ]
     },
     "execution_count": 10,
     "metadata": {},
     "output_type": "execute_result"
    }
   ],
   "source": [
    "from IPython.display import IFrame, display\n",
    "IFrame(\"./rc/7630_L4_Handout6_401.pdf\",width=1000,height=700)"
   ]
  },
  {
   "cell_type": "markdown",
   "id": "16c669d9",
   "metadata": {},
   "source": [
    "< [Table of Contents](#top) | [References](#references) >\n",
    "<a id=\"202206279\"></a>\n",
    "***\n",
    "###### Finding Information\n",
    "***"
   ]
  },
  {
   "cell_type": "code",
   "execution_count": 11,
   "id": "c2f606eb",
   "metadata": {},
   "outputs": [
    {
     "data": {
      "text/html": [
       "\n",
       "        <iframe\n",
       "            width=\"1000\"\n",
       "            height=\"700\"\n",
       "            src=\"./rc/Chapter05FindingInformation.pdf\"\n",
       "            frameborder=\"0\"\n",
       "            allowfullscreen\n",
       "            \n",
       "        ></iframe>\n",
       "        "
      ],
      "text/plain": [
       "<IPython.lib.display.IFrame at 0x246d3bc16a0>"
      ]
     },
     "execution_count": 11,
     "metadata": {},
     "output_type": "execute_result"
    }
   ],
   "source": [
    "from IPython.display import IFrame, display\n",
    "IFrame(\"./rc/Chapter05FindingInformation.pdf\",width=1000,height=700)"
   ]
  },
  {
   "cell_type": "markdown",
   "id": "2c545e06",
   "metadata": {},
   "source": [
    "< [Table of Contents](#top) | [References](#references) >\n",
    "<a id=\"2022062710\"></a>\n",
    "***\n",
    "###### Effective Writing\n",
    "***"
   ]
  },
  {
   "cell_type": "code",
   "execution_count": 12,
   "id": "a42c929a",
   "metadata": {},
   "outputs": [
    {
     "data": {
      "text/html": [
       "\n",
       "        <iframe\n",
       "            width=\"1000\"\n",
       "            height=\"700\"\n",
       "            src=\"./rc/Chapter06EffectiveWriting.pdf\"\n",
       "            frameborder=\"0\"\n",
       "            allowfullscreen\n",
       "            \n",
       "        ></iframe>\n",
       "        "
      ],
      "text/plain": [
       "<IPython.lib.display.IFrame at 0x246d3bc9760>"
      ]
     },
     "execution_count": 12,
     "metadata": {},
     "output_type": "execute_result"
    }
   ],
   "source": [
    "from IPython.display import IFrame, display\n",
    "IFrame(\"./rc/Chapter06EffectiveWriting.pdf\",width=1000,height=700)"
   ]
  },
  {
   "cell_type": "markdown",
   "id": "bf7fc760",
   "metadata": {},
   "source": [
    "< [Table of Contents](#top) | [References](#references) >\n",
    "<a id=\"2022062711\"></a>\n",
    "***\n",
    "###### Business Correspondence\n",
    "***"
   ]
  },
  {
   "cell_type": "code",
   "execution_count": 13,
   "id": "e8781ec3",
   "metadata": {},
   "outputs": [
    {
     "data": {
      "text/html": [
       "\n",
       "        <iframe\n",
       "            width=\"1000\"\n",
       "            height=\"700\"\n",
       "            src=\"./rc/Chapter08BusinessCorrespondence.pdf\"\n",
       "            frameborder=\"0\"\n",
       "            allowfullscreen\n",
       "            \n",
       "        ></iframe>\n",
       "        "
      ],
      "text/plain": [
       "<IPython.lib.display.IFrame at 0x246d3bc1f70>"
      ]
     },
     "execution_count": 13,
     "metadata": {},
     "output_type": "execute_result"
    }
   ],
   "source": [
    "from IPython.display import IFrame, display\n",
    "IFrame(\"./rc/Chapter08BusinessCorrespondence.pdf\",width=1000,height=700)"
   ]
  },
  {
   "cell_type": "markdown",
   "id": "4132c9d4",
   "metadata": {},
   "source": [
    "< [Table of Contents](#top) | [References](#references) >\n",
    "<a id=\"2022062712\"></a>\n",
    "***\n",
    "###### Effective written communication for different business audiences\n",
    "***"
   ]
  },
  {
   "cell_type": "code",
   "execution_count": 14,
   "id": "850bed86",
   "metadata": {},
   "outputs": [
    {
     "data": {
      "text/html": [
       "\n",
       "        <iframe\n",
       "            width=\"1000\"\n",
       "            height=\"700\"\n",
       "            src=\"./rc/7630_L4_Handout7_401.pdf\"\n",
       "            frameborder=\"0\"\n",
       "            allowfullscreen\n",
       "            \n",
       "        ></iframe>\n",
       "        "
      ],
      "text/plain": [
       "<IPython.lib.display.IFrame at 0x246d3bc99a0>"
      ]
     },
     "execution_count": 14,
     "metadata": {},
     "output_type": "execute_result"
    }
   ],
   "source": [
    "from IPython.display import IFrame, display\n",
    "IFrame(\"./rc/7630_L4_Handout7_401.pdf\",width=1000,height=700)"
   ]
  },
  {
   "cell_type": "markdown",
   "id": "7d4f4ccc",
   "metadata": {},
   "source": [
    "< [Table of Contents](#top) | [References](#references) >\n",
    "<a id=\"20220628\"></a>\n",
    "***\n",
    "### Tuesday 28th June 2022\n",
    "***"
   ]
  },
  {
   "cell_type": "markdown",
   "id": "07316335",
   "metadata": {},
   "source": [
    "[ [EC3](https://www.europol.europa.eu/about-europol/european-cybercrime-centre-ec3) ]"
   ]
  },
  {
   "cell_type": "markdown",
   "id": "4969d99a",
   "metadata": {},
   "source": [
    "< [Table of Contents](#top) | [References](#references) >\n",
    "<a id=\"202206281\"></a>\n",
    "***\n",
    "###### Styles and tones of written communication\n",
    "***"
   ]
  },
  {
   "cell_type": "code",
   "execution_count": 15,
   "id": "8a364810",
   "metadata": {},
   "outputs": [
    {
     "data": {
      "text/html": [
       "\n",
       "        <iframe\n",
       "            width=\"1000\"\n",
       "            height=\"700\"\n",
       "            src=\"./rc/7630_L4_Handout8_401.pdf\"\n",
       "            frameborder=\"0\"\n",
       "            allowfullscreen\n",
       "            \n",
       "        ></iframe>\n",
       "        "
      ],
      "text/plain": [
       "<IPython.lib.display.IFrame at 0x246d3bc9c10>"
      ]
     },
     "execution_count": 15,
     "metadata": {},
     "output_type": "execute_result"
    }
   ],
   "source": [
    "from IPython.display import IFrame, display\n",
    "IFrame(\"./rc/7630_L4_Handout8_401.pdf\",width=1000,height=700)"
   ]
  },
  {
   "cell_type": "markdown",
   "id": "d696e079",
   "metadata": {},
   "source": [
    "< [Table of Contents](#top) | [References](#references) >\n",
    "<a id=\"202206282\"></a>\n",
    "***\n",
    "###### Evaluating verbal communication\n",
    "***"
   ]
  },
  {
   "cell_type": "code",
   "execution_count": 16,
   "id": "ca75e391",
   "metadata": {
    "scrolled": true
   },
   "outputs": [
    {
     "data": {
      "text/html": [
       "\n",
       "        <iframe\n",
       "            width=\"1000\"\n",
       "            height=\"700\"\n",
       "            src=\"./rc/7630_L4_Handout9_401.pdf\"\n",
       "            frameborder=\"0\"\n",
       "            allowfullscreen\n",
       "            \n",
       "        ></iframe>\n",
       "        "
      ],
      "text/plain": [
       "<IPython.lib.display.IFrame at 0x246d3bc9bb0>"
      ]
     },
     "execution_count": 16,
     "metadata": {},
     "output_type": "execute_result"
    }
   ],
   "source": [
    "from IPython.display import IFrame, display\n",
    "IFrame(\"./rc/7630_L4_Handout9_401.pdf\",width=1000,height=700)"
   ]
  },
  {
   "cell_type": "markdown",
   "id": "3ec41289",
   "metadata": {},
   "source": [
    "< [Table of Contents](#top) | [References](#references) >\n",
    "<a id=\"202206283\"></a>\n",
    "***\n",
    "###### Business benefits of active listening\n",
    "***"
   ]
  },
  {
   "cell_type": "code",
   "execution_count": 17,
   "id": "82576348",
   "metadata": {
    "scrolled": false
   },
   "outputs": [
    {
     "data": {
      "text/html": [
       "\n",
       "        <iframe\n",
       "            width=\"1000\"\n",
       "            height=\"700\"\n",
       "            src=\"./rc/7630_L4_Handout10_401.pdf\"\n",
       "            frameborder=\"0\"\n",
       "            allowfullscreen\n",
       "            \n",
       "        ></iframe>\n",
       "        "
      ],
      "text/plain": [
       "<IPython.lib.display.IFrame at 0x246d3bc96d0>"
      ]
     },
     "execution_count": 17,
     "metadata": {},
     "output_type": "execute_result"
    }
   ],
   "source": [
    "from IPython.display import IFrame, display\n",
    "IFrame(\"./rc/7630_L4_Handout10_401.pdf\",width=1000,height=700)"
   ]
  },
  {
   "cell_type": "markdown",
   "id": "f9a9f365",
   "metadata": {},
   "source": [
    "< [Table of Contents](#top) | [References](#references) >\n",
    "<a id=\"202206284\"></a>\n",
    "***\n",
    "###### Overcoming barriers to verbal communication\n",
    "***"
   ]
  },
  {
   "cell_type": "code",
   "execution_count": 18,
   "id": "7f8269ed",
   "metadata": {
    "scrolled": false
   },
   "outputs": [
    {
     "data": {
      "text/html": [
       "\n",
       "        <iframe\n",
       "            width=\"1000\"\n",
       "            height=\"700\"\n",
       "            src=\"./rc/7630_L4_Handout11_401.pdf\"\n",
       "            frameborder=\"0\"\n",
       "            allowfullscreen\n",
       "            \n",
       "        ></iframe>\n",
       "        "
      ],
      "text/plain": [
       "<IPython.lib.display.IFrame at 0x246d3bc95e0>"
      ]
     },
     "execution_count": 18,
     "metadata": {},
     "output_type": "execute_result"
    }
   ],
   "source": [
    "from IPython.display import IFrame, display\n",
    "IFrame(\"./rc/7630_L4_Handout11_401.pdf\",width=1000,height=700)"
   ]
  },
  {
   "cell_type": "markdown",
   "id": "caecdcd4",
   "metadata": {},
   "source": [
    "< [Table of Contents](#top) | [References](#references) >\n",
    "<a id=\"202206285\"></a>\n",
    "***\n",
    "###### Recognition of and response to non-verbal communication in business environments\n",
    "***"
   ]
  },
  {
   "cell_type": "code",
   "execution_count": 19,
   "id": "383a2c34",
   "metadata": {
    "scrolled": false
   },
   "outputs": [
    {
     "data": {
      "text/html": [
       "\n",
       "        <iframe\n",
       "            width=\"1000\"\n",
       "            height=\"700\"\n",
       "            src=\"./rc/7630_L4_Handout12_401.pdf\"\n",
       "            frameborder=\"0\"\n",
       "            allowfullscreen\n",
       "            \n",
       "        ></iframe>\n",
       "        "
      ],
      "text/plain": [
       "<IPython.lib.display.IFrame at 0x246d3bc9850>"
      ]
     },
     "execution_count": 19,
     "metadata": {},
     "output_type": "execute_result"
    }
   ],
   "source": [
    "from IPython.display import IFrame, display\n",
    "IFrame(\"./rc/7630_L4_Handout12_401.pdf\",width=1000,height=700)"
   ]
  },
  {
   "cell_type": "markdown",
   "id": "00759168",
   "metadata": {},
   "source": [
    "< [Table of Contents](#top) | [References](#references) >\n",
    "<a id=\"202206286\"></a>\n",
    "***\n",
    "###### Using effective non-verbal communication to build rapport within a business environment\n",
    "***"
   ]
  },
  {
   "cell_type": "code",
   "execution_count": 20,
   "id": "0af524e5",
   "metadata": {
    "scrolled": false
   },
   "outputs": [
    {
     "data": {
      "text/html": [
       "\n",
       "        <iframe\n",
       "            width=\"1000\"\n",
       "            height=\"700\"\n",
       "            src=\"./rc/7630_L4_Handout13_401.pdf\"\n",
       "            frameborder=\"0\"\n",
       "            allowfullscreen\n",
       "            \n",
       "        ></iframe>\n",
       "        "
      ],
      "text/plain": [
       "<IPython.lib.display.IFrame at 0x246d3bcdeb0>"
      ]
     },
     "execution_count": 20,
     "metadata": {},
     "output_type": "execute_result"
    }
   ],
   "source": [
    "from IPython.display import IFrame, display\n",
    "IFrame(\"./rc/7630_L4_Handout13_401.pdf\",width=1000,height=700)"
   ]
  },
  {
   "cell_type": "markdown",
   "id": "e3723696",
   "metadata": {},
   "source": [
    "< [Table of Contents](#top) | [References](#references) >\n",
    "<a id=\"20220629\"></a>\n",
    "***\n",
    "### Wednesday 29th June 2022\n",
    "***"
   ]
  },
  {
   "cell_type": "markdown",
   "id": "e74542b1",
   "metadata": {},
   "source": [
    "< [Table of Contents](#top) | [References](#references) >\n",
    "<a id=\"202206291\"></a>\n",
    "***\n",
    "###### Evaluation of feedback methods for successful communications\n",
    "***"
   ]
  },
  {
   "cell_type": "code",
   "execution_count": 21,
   "id": "0017c0a4",
   "metadata": {
    "scrolled": false
   },
   "outputs": [
    {
     "data": {
      "text/html": [
       "\n",
       "        <iframe\n",
       "            width=\"1000\"\n",
       "            height=\"700\"\n",
       "            src=\"./rc/7630_L4_Handout14_401.pdf\"\n",
       "            frameborder=\"0\"\n",
       "            allowfullscreen\n",
       "            \n",
       "        ></iframe>\n",
       "        "
      ],
      "text/plain": [
       "<IPython.lib.display.IFrame at 0x246d3bcd400>"
      ]
     },
     "execution_count": 21,
     "metadata": {},
     "output_type": "execute_result"
    }
   ],
   "source": [
    "from IPython.display import IFrame, display\n",
    "IFrame(\"./rc/7630_L4_Handout14_401.pdf\",width=1000,height=700)"
   ]
  },
  {
   "cell_type": "markdown",
   "id": "f7d14add",
   "metadata": {},
   "source": [
    "< [Table of Contents](#top) | [References](#references) >\n",
    "<a id=\"202206292\"></a>\n",
    "***\n",
    "###### Using feedback to develop communication skills\n",
    "***"
   ]
  },
  {
   "cell_type": "code",
   "execution_count": 22,
   "id": "74fdc8c3",
   "metadata": {
    "scrolled": false
   },
   "outputs": [
    {
     "data": {
      "text/html": [
       "\n",
       "        <iframe\n",
       "            width=\"1000\"\n",
       "            height=\"700\"\n",
       "            src=\"./rc/7630_L4_Handout15_401.pdf\"\n",
       "            frameborder=\"0\"\n",
       "            allowfullscreen\n",
       "            \n",
       "        ></iframe>\n",
       "        "
      ],
      "text/plain": [
       "<IPython.lib.display.IFrame at 0x246d3bcd0d0>"
      ]
     },
     "execution_count": 22,
     "metadata": {},
     "output_type": "execute_result"
    }
   ],
   "source": [
    "from IPython.display import IFrame, display\n",
    "IFrame(\"./rc/7630_L4_Handout15_401.pdf\",width=1000,height=700)"
   ]
  },
  {
   "cell_type": "markdown",
   "id": "c974de08",
   "metadata": {},
   "source": [
    "< [Table of Contents](#top) | [References](#references) >\n",
    "<a id=\"20220630\"></a>\n",
    "***\n",
    "### Thursday 30th June 2022\n",
    "***"
   ]
  },
  {
   "cell_type": "markdown",
   "id": "703bbd2b",
   "metadata": {},
   "source": [
    "> Revision (7th July 2022 - Exam)"
   ]
  },
  {
   "cell_type": "markdown",
   "id": "d0de6693",
   "metadata": {},
   "source": [
    "< [Table of Contents](#top) | [References](#references) >\n",
    "<a id=\"202206301\"></a>\n",
    "***\n",
    "###### Justifying the purpose and type of communication\n",
    "***"
   ]
  },
  {
   "cell_type": "code",
   "execution_count": 23,
   "id": "6c62822c",
   "metadata": {},
   "outputs": [
    {
     "data": {
      "text/html": [
       "\n",
       "        <iframe\n",
       "            width=\"1000\"\n",
       "            height=\"700\"\n",
       "            src=\"./rc/7630_L4_Handout16_401.pdf\"\n",
       "            frameborder=\"0\"\n",
       "            allowfullscreen\n",
       "            \n",
       "        ></iframe>\n",
       "        "
      ],
      "text/plain": [
       "<IPython.lib.display.IFrame at 0x246d3b81a60>"
      ]
     },
     "execution_count": 23,
     "metadata": {},
     "output_type": "execute_result"
    }
   ],
   "source": [
    "from IPython.display import IFrame, display\n",
    "IFrame(\"./rc/7630_L4_Handout16_401.pdf\",width=1000,height=700)"
   ]
  },
  {
   "cell_type": "markdown",
   "id": "ec37ec18",
   "metadata": {},
   "source": [
    "< [Table of Contents](#top) | [References](#references) >\n",
    "<a id=\"202206302\"></a>\n",
    "***\n",
    "###### Recommending communication strategies in business\n",
    "***"
   ]
  },
  {
   "cell_type": "code",
   "execution_count": 24,
   "id": "174364df",
   "metadata": {},
   "outputs": [
    {
     "data": {
      "text/html": [
       "\n",
       "        <iframe\n",
       "            width=\"1000\"\n",
       "            height=\"700\"\n",
       "            src=\"./rc/7630_L4_Handout17_401.pdf\"\n",
       "            frameborder=\"0\"\n",
       "            allowfullscreen\n",
       "            \n",
       "        ></iframe>\n",
       "        "
      ],
      "text/plain": [
       "<IPython.lib.display.IFrame at 0x246d3b81ca0>"
      ]
     },
     "execution_count": 24,
     "metadata": {},
     "output_type": "execute_result"
    }
   ],
   "source": [
    "from IPython.display import IFrame, display\n",
    "IFrame(\"./rc/7630_L4_Handout17_401.pdf\",width=1000,height=700)"
   ]
  },
  {
   "cell_type": "markdown",
   "id": "b345845c",
   "metadata": {},
   "source": [
    "< [Table of Contents](#top) | [References](#references) >\n",
    "<a id=\"20220701\"></a>\n",
    "***\n",
    "### Friday 1st July 2022\n",
    "***"
   ]
  },
  {
   "cell_type": "markdown",
   "id": "621e90ab",
   "metadata": {},
   "source": [
    "< [Table of Contents](#top) | [References](#references) >\n",
    "<a id=\"202207011\"></a>\n",
    "***\n",
    "###### IP Addresses Explained\n",
    "***"
   ]
  },
  {
   "cell_type": "markdown",
   "id": "78b39b25",
   "metadata": {},
   "source": [
    "> Getting familiar with CompTIA Network+ material:"
   ]
  },
  {
   "cell_type": "markdown",
   "id": "5d6f1dc5",
   "metadata": {},
   "source": [
    "[ [IP Addresses Explained | Cisco CCNA 200-301](https://www.youtube.com/watch?v=LIzTo6e4FgY) ]"
   ]
  },
  {
   "cell_type": "markdown",
   "id": "5b49a0e3",
   "metadata": {},
   "source": [
    "< [Table of Contents](#top) | [References](#references) >\n",
    "<a id=\"202207012\"></a>\n",
    "***\n",
    "###### TCP/IP Model (OBJ. 1.1)\n",
    "***"
   ]
  },
  {
   "cell_type": "markdown",
   "id": "1da5aa86",
   "metadata": {},
   "source": [
    "> Udemy (Dion):"
   ]
  },
  {
   "cell_type": "markdown",
   "id": "767b52da",
   "metadata": {},
   "source": [
    "[ [TCP/IP Model (OBJ. 1.1)](https://www.udemy.com/course/comptia-network-n10-008/) ]"
   ]
  },
  {
   "cell_type": "markdown",
   "id": "3a44b486",
   "metadata": {},
   "source": [
    "< [Table of Contents](#top) | [References](#references) >\n",
    "<a id=\"202207013\"></a>\n",
    "***\n",
    "###### IP Addressing and Subnetting\n",
    "***"
   ]
  },
  {
   "cell_type": "code",
   "execution_count": 25,
   "id": "968dcb5d",
   "metadata": {},
   "outputs": [
    {
     "data": {
      "text/html": [
       "\n",
       "        <iframe\n",
       "            width=\"1000\"\n",
       "            height=\"1400\"\n",
       "            src=\"./rc/ip-addressing-and-subnetting.pdf\"\n",
       "            frameborder=\"0\"\n",
       "            allowfullscreen\n",
       "            \n",
       "        ></iframe>\n",
       "        "
      ],
      "text/plain": [
       "<IPython.lib.display.IFrame at 0x246d3b6f760>"
      ]
     },
     "execution_count": 25,
     "metadata": {},
     "output_type": "execute_result"
    }
   ],
   "source": [
    "from IPython.display import IFrame, display\n",
    "IFrame(\"./rc/ip-addressing-and-subnetting.pdf\",width=1000,height=1400)"
   ]
  },
  {
   "cell_type": "markdown",
   "id": "69d562c7",
   "metadata": {},
   "source": [
    "< [Table of Contents](#top) | [References](#references) >\n",
    "<a id=\"20220704\"></a>\n",
    "***\n",
    "### Monday 4th July 2022\n",
    "***"
   ]
  },
  {
   "cell_type": "markdown",
   "id": "ea0ab858",
   "metadata": {},
   "source": [
    "< [Table of Contents](#top) | [References](#references) >\n",
    "<a id=\"202207041\"></a>\n",
    "***\n",
    "###### Unit aims and outcomes\n",
    "***"
   ]
  },
  {
   "cell_type": "code",
   "execution_count": 26,
   "id": "59d6d98b",
   "metadata": {},
   "outputs": [
    {
     "data": {
      "text/html": [
       "\n",
       "        <iframe\n",
       "            width=\"1000\"\n",
       "            height=\"700\"\n",
       "            src=\"./rc/7630_L4_Handout1_401.pdf\"\n",
       "            frameborder=\"0\"\n",
       "            allowfullscreen\n",
       "            \n",
       "        ></iframe>\n",
       "        "
      ],
      "text/plain": [
       "<IPython.lib.display.IFrame at 0x246d3b691f0>"
      ]
     },
     "execution_count": 26,
     "metadata": {},
     "output_type": "execute_result"
    }
   ],
   "source": [
    "from IPython.display import IFrame, display\n",
    "IFrame(\"./rc/7630_L4_Handout1_401.pdf\",width=1000,height=700)"
   ]
  },
  {
   "cell_type": "markdown",
   "id": "7ff2c7a3",
   "metadata": {},
   "source": [
    "< [Table of Contents](#top) | [References](#references) >\n",
    "<a id=\"202207042\"></a>\n",
    "***\n",
    "###### Communication cycle\n",
    "***"
   ]
  },
  {
   "cell_type": "code",
   "execution_count": 27,
   "id": "f3fe8dc2",
   "metadata": {},
   "outputs": [
    {
     "data": {
      "text/html": [
       "\n",
       "        <iframe\n",
       "            width=\"1000\"\n",
       "            height=\"700\"\n",
       "            src=\"./rc/7630_L4_Handout2_401.pdf\"\n",
       "            frameborder=\"0\"\n",
       "            allowfullscreen\n",
       "            \n",
       "        ></iframe>\n",
       "        "
      ],
      "text/plain": [
       "<IPython.lib.display.IFrame at 0x246d3bcd940>"
      ]
     },
     "execution_count": 27,
     "metadata": {},
     "output_type": "execute_result"
    }
   ],
   "source": [
    "from IPython.display import IFrame, display\n",
    "IFrame(\"./rc/7630_L4_Handout2_401.pdf\",width=1000,height=700)"
   ]
  },
  {
   "cell_type": "markdown",
   "id": "f9a3f9ad",
   "metadata": {},
   "source": [
    "< [Table of Contents](#top) | [References](#references) >\n",
    "<a id=\"202207043\"></a>\n",
    "***\n",
    "###### Professional Communication Skills\n",
    "***"
   ]
  },
  {
   "cell_type": "markdown",
   "id": "5b554813",
   "metadata": {},
   "source": [
    "[ [Professional Communication Skills ](https://www.youtube.com/watch?v=WESGDi_ajUU) ]"
   ]
  },
  {
   "cell_type": "markdown",
   "id": "dc263218",
   "metadata": {},
   "source": [
    "< [Table of Contents](#top) | [References](#references) >\n",
    "<a id=\"202207044\"></a>\n",
    "***\n",
    "###### The capabilities of our cable-laying vessels\n",
    "***"
   ]
  },
  {
   "cell_type": "markdown",
   "id": "560a4fcd",
   "metadata": {},
   "source": [
    "[ [The capabilities of our cable-laying vessels](https://www.youtube.com/watch?v=_T-wlLgB1zM) ]"
   ]
  },
  {
   "cell_type": "markdown",
   "id": "fe549a99",
   "metadata": {},
   "source": [
    "< [Table of Contents](#top) | [References](#references) >\n",
    "<a id=\"202207045\"></a>\n",
    "***\n",
    "###### How a Few Undersea Cables Connect the Entire Internet\n",
    "***"
   ]
  },
  {
   "cell_type": "markdown",
   "id": "99bdd714",
   "metadata": {},
   "source": [
    "[ [How a Few Undersea Cables Connect the Entire Internet](https://www.youtube.com/watch?v=eTBLIYJSzdc() ]"
   ]
  },
  {
   "cell_type": "markdown",
   "id": "ff474eb9",
   "metadata": {},
   "source": [
    "< [Table of Contents](#top) | [References](#references) >\n",
    "<a id=\"202207046\"></a>\n",
    "***\n",
    "###### How Submarine Fiber Cable Installed?\n",
    "***"
   ]
  },
  {
   "cell_type": "markdown",
   "id": "570d43da",
   "metadata": {},
   "source": [
    "[ [How Submarine Fiber Cable Installed?](https://www.youtube.com/watch?v=d0gs497KApU) ]"
   ]
  },
  {
   "cell_type": "markdown",
   "id": "f17c9f60",
   "metadata": {},
   "source": [
    "< [Table of Contents](#top) | [References](#references) >\n",
    "<a id=\"202207047\"></a>\n",
    "***\n",
    "###### How do Satellites work? \n",
    "***"
   ]
  },
  {
   "cell_type": "markdown",
   "id": "240c096f",
   "metadata": {},
   "source": [
    "[ [How do Satellites work?](https://www.youtube.com/watch?v=ror4P1UAv_g) ]"
   ]
  },
  {
   "cell_type": "markdown",
   "id": "77ca96bb",
   "metadata": {},
   "source": [
    "< [Table of Contents](#top) | [References](#references) >\n",
    "<a id=\"20220705\"></a>\n",
    "***\n",
    "### Tuesday 5th July 2022\n",
    "***"
   ]
  },
  {
   "cell_type": "markdown",
   "id": "7e95a953",
   "metadata": {},
   "source": [
    "< [Table of Contents](#top) | [References](#references) >\n",
    "<a id=\"202207051\"></a>\n",
    "***\n",
    "###### Interview with renowned hacker Kevin Mitnick\n",
    "***"
   ]
  },
  {
   "cell_type": "markdown",
   "id": "cfaa0af5",
   "metadata": {},
   "source": [
    "[ [Interview with renowned hacker Kevin Mitnick](https://www.youtube.com/watch?v=LaypU4qAuYw) ]"
   ]
  },
  {
   "cell_type": "markdown",
   "id": "ed156f3d",
   "metadata": {},
   "source": [
    "< [Table of Contents](#top) | [References](#references) >\n",
    "<a id=\"202207052\"></a>\n",
    "***\n",
    "###### Ethernet Fundamentals (OBJ. 1.3, 2.3, & 5.5)\n",
    "***"
   ]
  },
  {
   "cell_type": "markdown",
   "id": "327d9b59",
   "metadata": {},
   "source": [
    "[ [Ethernet Fundamentals (OBJ. 1.3, 2.3, & 5.5)](https://www.udemy.com/course/comptia-network-n10-008/) ]"
   ]
  },
  {
   "cell_type": "markdown",
   "id": "6f932d6c",
   "metadata": {},
   "source": [
    "< [Table of Contents](#top) | [References](#references) >\n",
    "<a id=\"202207053\"></a>\n",
    "***\n",
    "###### Why Microsoft Has Underwater Data Centers\n",
    "***"
   ]
  },
  {
   "cell_type": "markdown",
   "id": "bfa17f10",
   "metadata": {},
   "source": [
    "[ [Why Microsoft Has Underwater Data Centers](https://www.youtube.com/watch?v=LmfvUiJ6tB8) ]"
   ]
  },
  {
   "cell_type": "markdown",
   "id": "92030ec7",
   "metadata": {},
   "source": [
    "< [Table of Contents](#top) | [References](#references) >\n",
    "<a id=\"202207054\"></a>\n",
    "***\n",
    "###### How do we communicate with space? \n",
    "***"
   ]
  },
  {
   "cell_type": "markdown",
   "id": "e5bdde80",
   "metadata": {},
   "source": [
    "[ [How do we communicate with space?](https://www.youtube.com/watch?v=xNEDNOQnwD8) ]"
   ]
  },
  {
   "cell_type": "markdown",
   "id": "3fd65e37",
   "metadata": {},
   "source": [
    "< [Table of Contents](#top) | [References](#references) >\n",
    "<a id=\"202207055\"></a>\n",
    "***\n",
    "###### How The Internet Travels Across Oceans \n",
    "***"
   ]
  },
  {
   "cell_type": "markdown",
   "id": "3ef0fb01",
   "metadata": {},
   "source": [
    "[ [How The Internet Travels Across Oceans](https://www.youtube.com/watch?v=yd1JhZzoS6A) ]"
   ]
  },
  {
   "cell_type": "markdown",
   "id": "db5fed02",
   "metadata": {},
   "source": [
    "< [Table of Contents](#top) | [References](#references) >\n",
    "<a id=\"20220706\"></a>\n",
    "***\n",
    "### Wednesday 6th July 2022\n",
    "***"
   ]
  },
  {
   "cell_type": "markdown",
   "id": "140a5c86",
   "metadata": {},
   "source": [
    "< [Table of Contents](#top) | [References](#references) >\n",
    "<a id=\"202207061\"></a>\n",
    "***\n",
    "###### Building a Cable (OBJ. 1.3)\n",
    "***"
   ]
  },
  {
   "cell_type": "markdown",
   "id": "64498645",
   "metadata": {},
   "source": [
    "[ [Building a Cable (OBJ. 1.3)](https://www.udemy.com/course/comptia-network-n10-008/?couponCode=JUN2022) ]"
   ]
  },
  {
   "cell_type": "markdown",
   "id": "f6e5a249",
   "metadata": {},
   "source": [
    "< [Table of Contents](#top) | [References](#references) >\n",
    "<a id=\"202207062\"></a>\n",
    "***\n",
    "###### Network Infrastructure Devices (Overview) (OBJ. 2.1)\n",
    "***"
   ]
  },
  {
   "cell_type": "markdown",
   "id": "1857df55",
   "metadata": {},
   "source": [
    "[ [Network Infrastructure Devices (Overview) (OBJ. 2.1)](https://www.udemy.com/course/comptia-network-n10-008/?couponCode=JUN2022) ]"
   ]
  },
  {
   "cell_type": "markdown",
   "id": "6b26b7ce",
   "metadata": {},
   "source": [
    "< [Table of Contents](#top) | [References](#references) >\n",
    "<a id=\"202207063\"></a>\n",
    "***\n",
    "###### darknetdiaries.com - EP 120: Voulnet\n",
    "***"
   ]
  },
  {
   "cell_type": "markdown",
   "id": "37032725",
   "metadata": {},
   "source": [
    "[ [darknetdiaries.com - EP 120: Voulnet](https://darknetdiaries.com/episode/120/) ]"
   ]
  },
  {
   "cell_type": "markdown",
   "id": "470bcbf7",
   "metadata": {},
   "source": [
    "***\n",
    "## END"
   ]
  },
  {
   "cell_type": "markdown",
   "id": "e0e42d51",
   "metadata": {},
   "source": [
    "< [Table of Contents](#top) >\n",
    "<a id=\"references\"></a>\n",
    "***\n",
    "## References\n",
    "***"
   ]
  },
  {
   "cell_type": "markdown",
   "id": "ff68247c",
   "metadata": {},
   "source": [
    "Oiliuna, \"Cybersecurity Apprenticeship - ICT Associate Professional (ICTAP),\" LMETB / AMTCE, June 2022."
   ]
  },
  {
   "cell_type": "markdown",
   "id": "b33c372a",
   "metadata": {},
   "source": [
    "***\n",
    "## END"
   ]
  },
  {
   "cell_type": "markdown",
   "id": "e5961b4d",
   "metadata": {},
   "source": [
    "< [Table of Contents](#top) | [References](#references) >\n",
    "<a id=\"appendix\"></a>\n",
    "***\n",
    "## Appendix\n",
    "***"
   ]
  },
  {
   "cell_type": "markdown",
   "id": "00d82a82",
   "metadata": {},
   "source": [
    "***\n",
    "## END"
   ]
  },
  {
   "cell_type": "code",
   "execution_count": 28,
   "id": "706756a2",
   "metadata": {
    "scrolled": true
   },
   "outputs": [
    {
     "name": "stderr",
     "output_type": "stream",
     "text": [
      "C:\\Users\\SeanOhAileasa\\AppData\\Local\\Temp\\ipykernel_13100\\1322614208.py:1: DeprecationWarning: Importing display from IPython.core.display is deprecated since IPython 7.14, please import from IPython display\n",
      "  from IPython.core.display import display,HTML\n"
     ]
    },
    {
     "data": {
      "text/html": [
       "<style>.container { width:100% !important; }</style>"
      ],
      "text/plain": [
       "<IPython.core.display.HTML object>"
      ]
     },
     "metadata": {},
     "output_type": "display_data"
    }
   ],
   "source": [
    "from IPython.core.display import display,HTML\n",
    "display(HTML(\"<style>.container { width:100% !important; }</style>\"))"
   ]
  },
  {
   "cell_type": "markdown",
   "id": "899c1783",
   "metadata": {},
   "source": [
    "# END JUPYTER NOTEBOOK"
   ]
  }
 ],
 "metadata": {
  "kernelspec": {
   "display_name": "Python 3 (ipykernel)",
   "language": "python",
   "name": "python3"
  },
  "language_info": {
   "codemirror_mode": {
    "name": "ipython",
    "version": 3
   },
   "file_extension": ".py",
   "mimetype": "text/x-python",
   "name": "python",
   "nbconvert_exporter": "python",
   "pygments_lexer": "ipython3",
   "version": "3.9.12"
  }
 },
 "nbformat": 4,
 "nbformat_minor": 5
}
